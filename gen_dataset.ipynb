{
 "cells": [
  {
   "cell_type": "code",
   "execution_count": 10,
   "id": "c927e157-5509-4002-9a6d-8e3496ad1c53",
   "metadata": {},
   "outputs": [],
   "source": [
    "import random\n",
    "import pandas as pd\n",
    "import itertools\n",
    "import math\n",
    "\n",
    "v = ['cat', 'vat', 'sat', 'tat']"
   ]
  },
  {
   "cell_type": "code",
   "execution_count": 11,
   "id": "ed891bc2-5153-4492-b53d-387827a14b95",
   "metadata": {},
   "outputs": [],
   "source": [
    "def create_identity(vocab, repeat_count = 3, num_systems = 4, randomize=True, num_samples=100):\n",
    "    delims_map = {f\"<{i}>\": f\"</{i}>\" for i in range(len(vocab))}\n",
    "    left_delims = list(delims_map.keys())\n",
    "    # repeat_count can be a tuple or an int\n",
    "    ds = []\n",
    "    # if !random assign sequentially\n",
    "    if randomize:\n",
    "        # Randomly shuffle delimiters\n",
    "        left_delims = random.sample(left_delims, len(left_delims))\n",
    "    for _ in range(num_samples):\n",
    "        sequences = []\n",
    "        for _ in range(num_systems):\n",
    "            idx = random.randint(0, len(vocab) - 1)\n",
    "            word, left_delim = vocab[idx], left_delims[idx]\n",
    "            # Determine how many times to repeat the word\n",
    "            if isinstance(repeat_count, tuple):\n",
    "                count = random.randint(repeat_count[0], repeat_count[1])\n",
    "            else:\n",
    "                count = repeat_count\n",
    "            inner_sequence = \" \".join([word] * count)\n",
    "            sequence = f\"{left_delim}{inner_sequence}{delims_map[left_delim]}\"\n",
    "            sequences.append(sequence)\n",
    "        test_example = \"\".join(sequences)\n",
    "        ds.append(test_example)\n",
    "    series = pd.Series(ds, name=\"sequence\")\n",
    "    return series\n"
   ]
  },
  {
   "cell_type": "code",
   "execution_count": 12,
   "id": "4ede5fb7-c388-4490-86ac-48ae4aa8e9b6",
   "metadata": {},
   "outputs": [
    {
     "data": {
      "text/plain": [
       "0     <3>sat sat sat sat</3><3>sat sat</3><1>vat vat...\n",
       "1     <1>vat vat</1><3>sat sat sat</3><2>cat cat cat...\n",
       "2     <1>vat vat vat</1><3>sat sat</3><2>cat cat cat...\n",
       "3     <0>tat tat</0><0>tat tat</0><0>tat tat tat</0>...\n",
       "4     <2>cat cat cat</2><2>cat cat</2><3>sat sat sat...\n",
       "                            ...                        \n",
       "95    <1>vat vat vat</1><0>tat tat</0><3>sat sat sat...\n",
       "96    <3>sat sat sat sat</3><1>vat vat vat</1><0>tat...\n",
       "97    <3>sat sat sat sat</3><1>vat vat vat vat</1><0...\n",
       "98    <3>sat sat sat</3><2>cat cat</2><1>vat vat</1>...\n",
       "99    <2>cat cat cat</2><0>tat tat tat tat</0><3>sat...\n",
       "Name: sequence, Length: 100, dtype: object"
      ]
     },
     "execution_count": 12,
     "metadata": {},
     "output_type": "execute_result"
    }
   ],
   "source": [
    "df_identity_random = create_identity(v, repeat_count = (2,4), num_systems = 4, randomize=True, num_samples=100)\n",
    "df_identity_random"
   ]
  },
  {
   "cell_type": "code",
   "execution_count": 13,
   "id": "0001fa80-ff04-4728-b3f5-d93df4406487",
   "metadata": {},
   "outputs": [
    {
     "data": {
      "text/plain": [
       "[('vat', 'tat', 'cat', 'sat'),\n",
       " ('vat', 'sat', 'cat', 'tat'),\n",
       " ('vat', 'sat', 'tat', 'cat'),\n",
       " ('cat', 'sat', 'tat', 'vat'),\n",
       " ('vat', 'tat', 'sat', 'cat'),\n",
       " ('cat', 'tat', 'sat', 'vat')]"
      ]
     },
     "execution_count": 13,
     "metadata": {},
     "output_type": "execute_result"
    }
   ],
   "source": [
    "# dont want rotationally equivalent cycles so first generate non-equi cycles (N-1)! where N delims < (N-1)! for N >= 4\n",
    "def generate_distinct_cycles(vocab):\n",
    "    perms = set(itertools.permutations(vocab))\n",
    "    seen = set()\n",
    "    cycles = []\n",
    "    for p in perms:\n",
    "        rotations = [p[i:] + p[:i] for i in range(len(p))]\n",
    "        canon = min(rotations)\n",
    "        if canon not in seen:\n",
    "            seen.add(canon)\n",
    "            cycles.append(p)\n",
    "    return cycles\n",
    "\n",
    "distinct_cycles = generate_distinct_cycles(v)\n",
    "distinct_cycles"
   ]
  },
  {
   "cell_type": "code",
   "execution_count": 14,
   "id": "f8e7519b-9e7d-4641-aede-7314a7a7bb75",
   "metadata": {},
   "outputs": [],
   "source": [
    "def create_orthogonal(vocab, repeat_count = 3, num_systems = 4, num_samples=100):\n",
    "    delims_map = {f\"<{i}>\": f\"</{i}>\" for i in range(len(vocab))}\n",
    "    left_delims = list(delims_map.keys())\n",
    "    distinct_cycles = generate_distinct_cycles(vocab)\n",
    "    random.shuffle(distinct_cycles)\n",
    "    usable_cycles = distinct_cycles[:len(vocab)]\n",
    "\n",
    "    cycle_delim_map = {\n",
    "        cycle: left\n",
    "        for cycle, left in zip(usable_cycles, left_delims)\n",
    "    }\n",
    "\n",
    "    ds = []\n",
    "    cycles = list(cycle_delim_map.items())\n",
    "    for _ in range(num_samples):\n",
    "        sequences = []\n",
    "        for _ in range(num_systems):\n",
    "            cycle, left_delim = random.choice(cycles)\n",
    "            if isinstance(repeat_count, tuple):\n",
    "                count = random.randint(repeat_count[0], repeat_count[1])\n",
    "            else:\n",
    "                count = repeat_count\n",
    "            core = ' '.join(cycle * count)\n",
    "            right_delim = delims_map[left_delim]\n",
    "            sequence = f\"{left_delim}{core}{right_delim}\"\n",
    "            sequences.append(sequence)\n",
    "        test_example = \"\".join(sequences)\n",
    "        ds.append(test_example)\n",
    "    series = pd.Series(ds, name=\"sequence\")\n",
    "    return series"
   ]
  },
  {
   "cell_type": "code",
   "execution_count": 18,
   "id": "b226dc20-d2fd-4248-a0cc-0a4fdf7b0c7e",
   "metadata": {},
   "outputs": [
    {
     "data": {
      "text/plain": [
       "0     <2>cat tat sat vat cat tat sat vat cat tat sat...\n",
       "1     <3>vat tat sat cat vat tat sat cat vat tat sat...\n",
       "2     <1>vat sat cat tat vat sat cat tat vat sat cat...\n",
       "3     <2>cat tat sat vat cat tat sat vat</2><2>cat t...\n",
       "4     <2>cat tat sat vat cat tat sat vat cat tat sat...\n",
       "                            ...                        \n",
       "95    <3>vat tat sat cat vat tat sat cat</3><1>vat s...\n",
       "96    <0>cat sat tat vat cat sat tat vat cat sat tat...\n",
       "97    <0>cat sat tat vat cat sat tat vat cat sat tat...\n",
       "98    <3>vat tat sat cat vat tat sat cat vat tat sat...\n",
       "99    <3>vat tat sat cat vat tat sat cat vat tat sat...\n",
       "Name: sequence, Length: 100, dtype: object"
      ]
     },
     "execution_count": 18,
     "metadata": {},
     "output_type": "execute_result"
    }
   ],
   "source": [
    "df_orthogonal = create_orthogonal(v, repeat_count = (2,4), num_systems = 4, num_samples=100)\n",
    "df_orthogonal"
   ]
  },
  {
   "cell_type": "code",
   "execution_count": null,
   "id": "b0b0439a-78a1-47df-b4cc-b96a5b92d609",
   "metadata": {},
   "outputs": [],
   "source": []
  },
  {
   "cell_type": "code",
   "execution_count": null,
   "id": "fbdc3ea4-02bf-4239-9ea6-1f145af78005",
   "metadata": {},
   "outputs": [],
   "source": []
  }
 ],
 "metadata": {
  "kernelspec": {
   "display_name": "Python 3",
   "language": "python",
   "name": "python3"
  },
  "language_info": {
   "codemirror_mode": {
    "name": "ipython",
    "version": 3
   },
   "file_extension": ".py",
   "mimetype": "text/x-python",
   "name": "python",
   "nbconvert_exporter": "python",
   "pygments_lexer": "ipython3",
   "version": "3.12.6"
  }
 },
 "nbformat": 4,
 "nbformat_minor": 5
}
