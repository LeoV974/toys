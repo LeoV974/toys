{
 "cells": [
  {
   "cell_type": "code",
   "execution_count": 4,
   "id": "9cd6ecc6",
   "metadata": {},
   "outputs": [],
   "source": [
    "import pandas as pd\n",
    "import random\n",
    "import numpy as np\n",
    "\n",
    "# Load sentence and link data\n",
    "sentences = pd.read_csv(\"sentences.csv\", sep=\"\\t\", names=[\"id\", \"lang\", \"text\"])\n",
    "links = pd.read_csv(\"links.csv\", sep=\"\\t\", names=[\"id\", \"translation_id\"])"
   ]
  },
  {
   "cell_type": "code",
   "execution_count": 30,
   "id": "0f1a5d3d",
   "metadata": {},
   "outputs": [
    {
     "data": {
      "text/html": [
       "<div>\n",
       "<style scoped>\n",
       "    .dataframe tbody tr th:only-of-type {\n",
       "        vertical-align: middle;\n",
       "    }\n",
       "\n",
       "    .dataframe tbody tr th {\n",
       "        vertical-align: top;\n",
       "    }\n",
       "\n",
       "    .dataframe thead th {\n",
       "        text-align: right;\n",
       "    }\n",
       "</style>\n",
       "<table border=\"1\" class=\"dataframe\">\n",
       "  <thead>\n",
       "    <tr style=\"text-align: right;\">\n",
       "      <th></th>\n",
       "      <th>id</th>\n",
       "      <th>lang</th>\n",
       "      <th>text</th>\n",
       "    </tr>\n",
       "  </thead>\n",
       "  <tbody>\n",
       "    <tr>\n",
       "      <th>78</th>\n",
       "      <td>81</td>\n",
       "      <td>deu</td>\n",
       "      <td>Heute ist der 18. Juni und das ist der Geburts...</td>\n",
       "    </tr>\n",
       "    <tr>\n",
       "      <th>79</th>\n",
       "      <td>82</td>\n",
       "      <td>deu</td>\n",
       "      <td>Herzlichen Glückwunsch zum Geburtstag, Muiriel!</td>\n",
       "    </tr>\n",
       "    <tr>\n",
       "      <th>85</th>\n",
       "      <td>89</td>\n",
       "      <td>deu</td>\n",
       "      <td>Ich weiß einfach nicht, was ich sagen soll.</td>\n",
       "    </tr>\n",
       "    <tr>\n",
       "      <th>89</th>\n",
       "      <td>94</td>\n",
       "      <td>deu</td>\n",
       "      <td>Aus irgendeinem Grund hat das Mikrofon gerade ...</td>\n",
       "    </tr>\n",
       "    <tr>\n",
       "      <th>91</th>\n",
       "      <td>96</td>\n",
       "      <td>deu</td>\n",
       "      <td>Die Ausbildung in dieser Welt enttäuscht mich.</td>\n",
       "    </tr>\n",
       "    <tr>\n",
       "      <th>...</th>\n",
       "      <td>...</td>\n",
       "      <td>...</td>\n",
       "      <td>...</td>\n",
       "    </tr>\n",
       "    <tr>\n",
       "      <th>12647237</th>\n",
       "      <td>13127532</td>\n",
       "      <td>eng</td>\n",
       "      <td>I told them they'd be miserable, too, if they ...</td>\n",
       "    </tr>\n",
       "    <tr>\n",
       "      <th>12647238</th>\n",
       "      <td>13127533</td>\n",
       "      <td>eng</td>\n",
       "      <td>Don't call Tom \"Mary.\" That's not his name any...</td>\n",
       "    </tr>\n",
       "    <tr>\n",
       "      <th>12647239</th>\n",
       "      <td>13127534</td>\n",
       "      <td>eng</td>\n",
       "      <td>I hate to be the one to say I told you so.</td>\n",
       "    </tr>\n",
       "    <tr>\n",
       "      <th>12647258</th>\n",
       "      <td>13127554</td>\n",
       "      <td>epo</td>\n",
       "      <td>Neniu estas perfekta. Ĉies postaĵo ja havas fe...</td>\n",
       "    </tr>\n",
       "    <tr>\n",
       "      <th>12647270</th>\n",
       "      <td>13127566</td>\n",
       "      <td>epo</td>\n",
       "      <td>Arsenon oni obtenas ĉefe de arsenopirito (FeAs...</td>\n",
       "    </tr>\n",
       "  </tbody>\n",
       "</table>\n",
       "<p>3083685 rows × 3 columns</p>\n",
       "</div>"
      ],
      "text/plain": [
       "                id lang                                               text\n",
       "78              81  deu  Heute ist der 18. Juni und das ist der Geburts...\n",
       "79              82  deu    Herzlichen Glückwunsch zum Geburtstag, Muiriel!\n",
       "85              89  deu        Ich weiß einfach nicht, was ich sagen soll.\n",
       "89              94  deu  Aus irgendeinem Grund hat das Mikrofon gerade ...\n",
       "91              96  deu     Die Ausbildung in dieser Welt enttäuscht mich.\n",
       "...            ...  ...                                                ...\n",
       "12647237  13127532  eng  I told them they'd be miserable, too, if they ...\n",
       "12647238  13127533  eng  Don't call Tom \"Mary.\" That's not his name any...\n",
       "12647239  13127534  eng         I hate to be the one to say I told you so.\n",
       "12647258  13127554  epo  Neniu estas perfekta. Ĉies postaĵo ja havas fe...\n",
       "12647270  13127566  epo  Arsenon oni obtenas ĉefe de arsenopirito (FeAs...\n",
       "\n",
       "[3083685 rows x 3 columns]"
      ]
     },
     "execution_count": 30,
     "metadata": {},
     "output_type": "execute_result"
    }
   ],
   "source": [
    "# Find top 9 languages besides English\n",
    "top_langs = sentences['lang'].value_counts().drop('eng').head(24).index.tolist()\n",
    "top_langs.insert(0, 'eng')\n",
    "min_chars = 40\n",
    "sent_top = sentences[(sentences['lang'].isin(top_langs)) & (sentences['text'].str.len() > min_chars)]\n",
    "lang_groups = {lang: sent_top[sent_top['lang'] == lang]['text'].tolist() for lang in top_langs}\n",
    "sent_top"
   ]
  },
  {
   "cell_type": "code",
   "execution_count": 29,
   "id": "8c86ea94",
   "metadata": {},
   "outputs": [],
   "source": [
    "def split_sentence(sentence):\n",
    "    words = sentence.split()\n",
    "    mid = len(words) // 2\n",
    "    first_half = \" \".join(words[:mid])\n",
    "    second_half = \" \".join(words[mid:])\n",
    "    return first_half, second_half"
   ]
  },
  {
   "cell_type": "code",
   "execution_count": 19,
   "id": "70c75f35",
   "metadata": {},
   "outputs": [],
   "source": [
    "def create_multilingual_dataset(lang_groups, num_segments=3, num_samples=100, needle_pos=0):\n",
    "    ds = []\n",
    "    available_langs = list(lang_groups.keys())\n",
    "    \n",
    "    for _ in range(num_samples):\n",
    "        segments = []\n",
    "        needle_query = \"\"\n",
    "        for i in range(num_segments):\n",
    "            lang = random.choice(available_langs)\n",
    "            sentence = random.choice(lang_groups[lang])\n",
    "            if i == needle_pos:\n",
    "                # first half in segments second is needle_query\n",
    "                a, b = split_sentence(sentence)\n",
    "                segment = f\"<{lang}> {a} </{lang}>\"\n",
    "                needle_query = f\"<{lang}> {b} </{lang}>\"\n",
    "            else:\n",
    "                segment = f\"<{lang}> {sentence} </{lang}>\"\n",
    "            segments.append(segment)\n",
    "        haystack = \"\".join(segments)\n",
    "        test_example = haystack + needle_query\n",
    "        ds.append(test_example)\n",
    "    \n",
    "    return pd.Series(ds, name=\"sequence\")"
   ]
  },
  {
   "cell_type": "code",
   "execution_count": 25,
   "id": "bece223d",
   "metadata": {},
   "outputs": [
    {
     "data": {
      "text/plain": [
       "\"<eng> Oklahoma's panhandle used to </eng><rus> Том сказал мне, что он хочет это сделать. </rus><kab> Amek ihi ara ad naru tilelli s tbengalit? </kab><eng> be part of Texas. </eng>\""
      ]
     },
     "execution_count": 25,
     "metadata": {},
     "output_type": "execute_result"
    }
   ],
   "source": [
    "create_multilingual_dataset(lang_groups, num_segments = 3, num_samples = 100, needle_pos = 0)[0]"
   ]
  },
  {
   "cell_type": "code",
   "execution_count": null,
   "id": "be3644cc",
   "metadata": {},
   "outputs": [],
   "source": []
  }
 ],
 "metadata": {
  "kernelspec": {
   "display_name": "Python 3",
   "language": "python",
   "name": "python3"
  },
  "language_info": {
   "codemirror_mode": {
    "name": "ipython",
    "version": 3
   },
   "file_extension": ".py",
   "mimetype": "text/x-python",
   "name": "python",
   "nbconvert_exporter": "python",
   "pygments_lexer": "ipython3",
   "version": "3.12.6"
  }
 },
 "nbformat": 4,
 "nbformat_minor": 5
}
